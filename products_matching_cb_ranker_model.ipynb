{
 "cells": [
  {
   "cell_type": "markdown",
   "id": "662946a6",
   "metadata": {},
   "source": [
    "<p style=\"font-size:30px;\">\n",
    "Поиск и предложение похожих товаров\n",
    "</p>\n",
    "\n",
    "В нашем распоряжении данные о товарах от одного из крупнейших маркетплейсов страны.\n",
    "Разработаем алгоритм, который для списка товаров `validation.csv` предложит 5 вариантов наиболее похожих товаров из другого списка `base.csv`. Оценка качества алгоритма будем проводить по метрике `accuracy@5`.\n",
    "\n",
    "Данные:\n",
    "\n",
    "- *`base.csv`* - анонимизированный набор товаров. Каждый товар представлен как уникальный id (0-base, 1-base, 2-base) и вектор признаков размерностью 72.\n",
    "\n",
    "- *`target.csv`* - обучающий датасет. Каждая строчка - один товар, для которого известен уникальный id (0-query, 1-query, …) , вектор признаков и `id` товара из *`base.csv`*, который максимально похож на него (по мнению экспертов).\n",
    "\n",
    "- *`validation.csv`* - датасет с товарами (уникальный id и вектор признаков), для которых надо найти наиболее близкие товары из *`base.csv`*\n",
    "\n",
    "- *`validation_answer.csv`* - правильные ответы к файлу `validation.csv`."
   ]
  },
  {
   "cell_type": "markdown",
   "id": "b778af3b",
   "metadata": {},
   "source": [
    "<p style=\"font-size:25px;\">\n",
    "Часть II. Повышение качества поиска с использованием ранжирующей модели\n",
    "</p>"
   ]
  },
  {
   "cell_type": "markdown",
   "id": "c982118b",
   "metadata": {},
   "source": [
    "Метод поиска схожих векторов методом кластеризации из библиотеки Faiss выдает на тренировочной и валидационной выборках результат 70%. \n",
    "\n",
    "Исследуем возможность повышения точности поиска путем последующего применения ранжирующей модели машинного обучения. Для этого также вычислены топ 50, 100, 200, 400 ближайших векторов.\n",
    "\n",
    "С увеличением числа ближайших векторов до 50 точность выросла ориентировочно на 8%. При увеличении числа ближайших векторов в интервале от 50 до 400 точность повышается незначительно, на 1-1,5% для каждого из интервалов (50:100, 100:200, 200:400).  \n",
    "\n",
    "Обучим и применим ранжирующую модель на выбоках из топ 50, 100, 200 и 400 векторов."
   ]
  },
  {
   "cell_type": "code",
   "execution_count": 1,
   "id": "c50c62c0",
   "metadata": {},
   "outputs": [
    {
     "name": "stdout",
     "output_type": "stream",
     "text": [
      "Requirement already satisfied: optuna in /root/anaconda3/lib/python3.11/site-packages (3.3.0)\n",
      "Requirement already satisfied: alembic>=1.5.0 in /root/anaconda3/lib/python3.11/site-packages (from optuna) (1.12.0)\n",
      "Requirement already satisfied: cmaes>=0.10.0 in /root/anaconda3/lib/python3.11/site-packages (from optuna) (0.10.0)\n",
      "Requirement already satisfied: colorlog in /root/anaconda3/lib/python3.11/site-packages (from optuna) (6.7.0)\n",
      "Requirement already satisfied: numpy in /root/anaconda3/lib/python3.11/site-packages (from optuna) (1.24.3)\n",
      "Requirement already satisfied: packaging>=20.0 in /root/anaconda3/lib/python3.11/site-packages (from optuna) (23.1)\n",
      "Requirement already satisfied: sqlalchemy>=1.3.0 in /root/anaconda3/lib/python3.11/site-packages (from optuna) (1.4.39)\n",
      "Requirement already satisfied: tqdm in /root/anaconda3/lib/python3.11/site-packages (from optuna) (4.65.0)\n",
      "Requirement already satisfied: PyYAML in /root/anaconda3/lib/python3.11/site-packages (from optuna) (6.0)\n",
      "Requirement already satisfied: Mako in /root/anaconda3/lib/python3.11/site-packages (from alembic>=1.5.0->optuna) (1.2.4)\n",
      "Requirement already satisfied: typing-extensions>=4 in /root/anaconda3/lib/python3.11/site-packages (from alembic>=1.5.0->optuna) (4.7.1)\n",
      "Requirement already satisfied: greenlet!=0.4.17 in /root/anaconda3/lib/python3.11/site-packages (from sqlalchemy>=1.3.0->optuna) (2.0.1)\n",
      "Requirement already satisfied: MarkupSafe>=0.9.2 in /root/anaconda3/lib/python3.11/site-packages (from Mako->alembic>=1.5.0->optuna) (2.1.1)\n",
      "\u001b[33mWARNING: Running pip as the 'root' user can result in broken permissions and conflicting behaviour with the system package manager. It is recommended to use a virtual environment instead: https://pip.pypa.io/warnings/venv\u001b[0m\u001b[33m\n",
      "\u001b[0m"
     ]
    }
   ],
   "source": [
    "!pip install optuna"
   ]
  },
  {
   "cell_type": "code",
   "execution_count": 2,
   "id": "b73a1b02",
   "metadata": {},
   "outputs": [],
   "source": [
    "import pandas as pd\n",
    "import numpy as np\n",
    "from tqdm.notebook import tqdm\n",
    "import faiss\n",
    "\n",
    "from sklearn.preprocessing import StandardScaler, MinMaxScaler, \\\n",
    "                                  RobustScaler, PowerTransformer, \\\n",
    "                                  QuantileTransformer\n",
    "from sklearn.metrics import make_scorer \n",
    "\n",
    "from catboost import CatBoostClassifier, Pool, cv \n",
    "import optuna\n",
    "\n",
    "import matplotlib.pyplot as plt\n",
    "import seaborn as sns\n",
    "from joblib import dump, load\n",
    "\n",
    "import datetime\n",
    "# from google.colab import drive\n",
    "# drive.mount('/content/drive/')\n",
    "\n",
    "%matplotlib inline"
   ]
  },
  {
   "cell_type": "markdown",
   "id": "fdb22d31",
   "metadata": {},
   "source": [
    "## Загрузка данных"
   ]
  },
  {
   "cell_type": "code",
   "execution_count": 3,
   "id": "3b454ac1",
   "metadata": {},
   "outputs": [],
   "source": [
    "dict_base = {}\n",
    "for i in range(72):\n",
    "    dict_base[str(i)] = 'float32'\n",
    "dict_train = dict_base.copy()\n",
    "dict_train['Target'] = 'str'"
   ]
  },
  {
   "cell_type": "code",
   "execution_count": 4,
   "id": "657c12fa",
   "metadata": {},
   "outputs": [
    {
     "name": "stdout",
     "output_type": "stream",
     "text": [
      "CPU times: user 20.1 s, sys: 799 ms, total: 20.9 s\n",
      "Wall time: 21 s\n"
     ]
    }
   ],
   "source": [
    "%%time\n",
    "all_base = pd.read_csv('./datasets/base.csv', index_col=0, dtype=dict_base)\n",
    "#all_base = pd.read_csv('/content/drive/MyDrive/Colab Notebooks/projects/matching/datasets/base.csv', index_col=0)"
   ]
  },
  {
   "cell_type": "code",
   "execution_count": 5,
   "id": "b436ca08",
   "metadata": {},
   "outputs": [],
   "source": [
    "all_train = pd.read_csv('./datasets/train.csv', index_col=0, dtype=dict_train)\n",
    "valid_features = pd.read_csv('./datasets/validation.csv', index_col=0, dtype=dict_base)\n",
    "valid_target = pd.read_csv('./datasets/validation_answer.csv', index_col=0)\n",
    "# all_train = pd.read_csv('/content/drive/MyDrive/Colab Notebooks/projects/matching/datasets/train.csv', index_col=0)\n",
    "# valid_features = pd.read_csv('/content/drive/MyDrive/Colab Notebooks/projects/matching/datasets/validation.csv', index_col=0)"
   ]
  },
  {
   "cell_type": "code",
   "execution_count": 6,
   "id": "a3809e78",
   "metadata": {},
   "outputs": [],
   "source": [
    "base_index = {k: v for k, v in enumerate(all_base.index.to_list())}\n",
    "\n",
    "train_target = all_train['Target']\n",
    "train_features = all_train.drop('Target', axis=1)\n",
    "\n",
    "def accuracy_top_n(target_features, indices):\n",
    "    acc = 0\n",
    "    for target, el in zip(target_features.values.tolist(), indices.tolist()):\n",
    "        acc += int(target in [base_index[r] for r in el])\n",
    "\n",
    "    return 100 * acc / len(indices)"
   ]
  },
  {
   "cell_type": "code",
   "execution_count": 7,
   "id": "2e83f28b",
   "metadata": {},
   "outputs": [],
   "source": [
    "col_list = ['6', '21', '25', '33', '44', '59', '65', '70']"
   ]
  },
  {
   "cell_type": "markdown",
   "id": "622705ec",
   "metadata": {},
   "source": [
    "Загрузим результат поиска ближайших векторов методом кластеризации для векторов из тестовой и валидационной выборок"
   ]
  },
  {
   "cell_type": "code",
   "execution_count": 8,
   "id": "a7dc988d",
   "metadata": {},
   "outputs": [],
   "source": [
    "train_indices = np.load('./dumps/train_indices_100.npy')\n",
    "valid_indices = np.load('./dumps/valid_indices_100.npy')"
   ]
  },
  {
   "cell_type": "code",
   "execution_count": 9,
   "id": "31390038",
   "metadata": {
    "scrolled": false
   },
   "outputs": [
    {
     "data": {
      "text/plain": [
       "79.976"
      ]
     },
     "execution_count": 9,
     "metadata": {},
     "output_type": "execute_result"
    }
   ],
   "source": [
    "accuracy_top_n(train_target, train_indices)"
   ]
  },
  {
   "cell_type": "code",
   "execution_count": 10,
   "id": "e5092e02",
   "metadata": {},
   "outputs": [
    {
     "data": {
      "text/plain": [
       "79.857"
      ]
     },
     "execution_count": 10,
     "metadata": {},
     "output_type": "execute_result"
    }
   ],
   "source": [
    "accuracy_top_n(valid_target['Expected'], valid_indices)"
   ]
  },
  {
   "cell_type": "markdown",
   "id": "652e113d",
   "metadata": {},
   "source": [
    "## Сформируем данные для обучения модели"
   ]
  },
  {
   "cell_type": "code",
   "execution_count": 11,
   "id": "c63d2a40",
   "metadata": {},
   "outputs": [
    {
     "data": {
      "text/plain": [
       "(100000, 100)"
      ]
     },
     "execution_count": 11,
     "metadata": {},
     "output_type": "execute_result"
    }
   ],
   "source": [
    "train_indices.shape"
   ]
  },
  {
   "cell_type": "markdown",
   "id": "554a281a",
   "metadata": {},
   "source": [
    "Учитывая значительный объем данных определим максимальный размер блока данных в 1 млн. векторов"
   ]
  },
  {
   "cell_type": "code",
   "execution_count": 12,
   "id": "805e2742",
   "metadata": {},
   "outputs": [
    {
     "name": "stdout",
     "output_type": "stream",
     "text": [
      "i= 10000 j= 100\n"
     ]
    }
   ],
   "source": [
    "i = int(1000000 / train_indices.shape[1])\n",
    "j = train_indices.shape[1]\n",
    "print('i=', i, 'j=', j)"
   ]
  },
  {
   "cell_type": "markdown",
   "id": "a8771f66",
   "metadata": {},
   "source": [
    "**Формирование тренировочной выборки**"
   ]
  },
  {
   "cell_type": "code",
   "execution_count": 13,
   "id": "600b81d0",
   "metadata": {},
   "outputs": [
    {
     "data": {
      "text/plain": [
       "1000000"
      ]
     },
     "execution_count": 13,
     "metadata": {},
     "output_type": "execute_result"
    }
   ],
   "source": [
    "rank_train_sub_indices = train_indices[:i, :j].ravel()\n",
    "len(rank_train_sub_indices)"
   ]
  },
  {
   "cell_type": "code",
   "execution_count": 14,
   "id": "da5037bf",
   "metadata": {
    "scrolled": true
   },
   "outputs": [
    {
     "data": {
      "text/plain": [
       "(1000000, 73)"
      ]
     },
     "execution_count": 14,
     "metadata": {},
     "output_type": "execute_result"
    }
   ],
   "source": [
    "rank_train_sub_base = all_base.iloc[rank_train_sub_indices, :].reset_index()\n",
    "rank_train_sub_base.shape"
   ]
  },
  {
   "cell_type": "code",
   "execution_count": 15,
   "id": "0ae102c2",
   "metadata": {},
   "outputs": [
    {
     "data": {
      "text/plain": [
       "(1000000, 73)"
      ]
     },
     "execution_count": 15,
     "metadata": {},
     "output_type": "execute_result"
    }
   ],
   "source": [
    "rank_train = all_train.iloc[np.repeat(range(i), j), :].reset_index(drop=True)\n",
    "rank_train.shape"
   ]
  },
  {
   "cell_type": "code",
   "execution_count": 16,
   "id": "3033fd2d",
   "metadata": {},
   "outputs": [
    {
     "data": {
      "text/plain": [
       "(1000000, 146)"
      ]
     },
     "execution_count": 16,
     "metadata": {},
     "output_type": "execute_result"
    }
   ],
   "source": [
    "rank_train = pd.concat([rank_train, rank_train_sub_base], axis=1, ignore_index=True)\n",
    "rank_train.shape"
   ]
  },
  {
   "cell_type": "code",
   "execution_count": 17,
   "id": "0cdc04d0",
   "metadata": {},
   "outputs": [],
   "source": [
    "rank_train['target'] = np.where(rank_train[72] == rank_train[73], 1,  0)"
   ]
  },
  {
   "cell_type": "markdown",
   "id": "76be0b28",
   "metadata": {},
   "source": [
    "Доля объектов положительного класса в тренировочной выборке"
   ]
  },
  {
   "cell_type": "code",
   "execution_count": 18,
   "id": "917aaa9f",
   "metadata": {},
   "outputs": [
    {
     "data": {
      "text/plain": [
       "0.008042"
      ]
     },
     "execution_count": 18,
     "metadata": {},
     "output_type": "execute_result"
    }
   ],
   "source": [
    "rank_train['target'].mean()"
   ]
  },
  {
   "cell_type": "code",
   "execution_count": 19,
   "id": "8af880cd",
   "metadata": {},
   "outputs": [],
   "source": [
    "rank_train = rank_train.drop([72, 73], axis=1)"
   ]
  },
  {
   "cell_type": "markdown",
   "id": "28edc73c",
   "metadata": {},
   "source": [
    "### Обучение ранжирующей модели"
   ]
  },
  {
   "cell_type": "markdown",
   "id": "8ebd04d5",
   "metadata": {},
   "source": [
    "#### Подбор гиперпараметров"
   ]
  },
  {
   "cell_type": "code",
   "execution_count": 20,
   "id": "6349e654",
   "metadata": {},
   "outputs": [],
   "source": [
    "train_pool = Pool(data=rank_train.drop(['target'], axis=1), \n",
    "                  label=rank_train['target'])"
   ]
  },
  {
   "cell_type": "code",
   "execution_count": 21,
   "id": "5925fe10",
   "metadata": {},
   "outputs": [],
   "source": [
    "def cb_objective(trial: optuna.Trial, train_pool):\n",
    "\n",
    "    params_set = {\n",
    "        'learning_rate': trial.suggest_float('learning_rate', 0.1, 0.3, log=True),\n",
    "        'eval_metric': 'Recall',\n",
    "        'random_seed': 42,\n",
    "        'verbose': 1000\n",
    "    }\n",
    "\n",
    "    cb = CatBoostClassifier(**params_set)\n",
    "\n",
    "    cb.fit(train_pool,\n",
    "           early_stopping_rounds=200,\n",
    "           verbose=1000)\n",
    "\n",
    "    score = cb.best_score_['learn']['Recall'] #['RecallAt:top=5'] #['MAP']\n",
    "\n",
    "    return score"
   ]
  },
  {
   "cell_type": "code",
   "execution_count": 22,
   "id": "84a5259c",
   "metadata": {},
   "outputs": [
    {
     "name": "stderr",
     "output_type": "stream",
     "text": [
      "[I 2023-09-29 23:07:48,146] A new study created in memory with name: cb_study\n"
     ]
    }
   ],
   "source": [
    "cb_study = optuna.create_study(study_name='cb_study',\n",
    "                               pruner=optuna.pruners.MedianPruner(n_warmup_steps=1),\n",
    "                               direction='maximize')"
   ]
  },
  {
   "cell_type": "code",
   "execution_count": 23,
   "id": "194cd2dc",
   "metadata": {
    "scrolled": false
   },
   "outputs": [
    {
     "data": {
      "application/vnd.jupyter.widget-view+json": {
       "model_id": "dd72c9b3847b434b8e52f2abecd38565",
       "version_major": 2,
       "version_minor": 0
      },
      "text/plain": [
       "  0%|          | 0/10 [00:00<?, ?it/s]"
      ]
     },
     "metadata": {},
     "output_type": "display_data"
    },
    {
     "name": "stdout",
     "output_type": "stream",
     "text": [
      "0:\tlearn: 0.0000000\ttotal: 260ms\tremaining: 4m 19s\n",
      "999:\tlearn: 0.5726188\ttotal: 3m 10s\tremaining: 0us\n",
      "[I 2023-09-29 23:11:00,699] Trial 0 finished with value: 0.5729917930862969 and parameters: {'learning_rate': 0.12463489586445073}. Best is trial 0 with value: 0.5729917930862969.\n",
      "0:\tlearn: 0.0000000\ttotal: 218ms\tremaining: 3m 37s\n",
      "999:\tlearn: 0.5823178\ttotal: 3m 12s\tremaining: 0us\n",
      "[I 2023-09-29 23:14:15,379] Trial 1 finished with value: 0.5823178313852275 and parameters: {'learning_rate': 0.12391436293465248}. Best is trial 1 with value: 0.5823178313852275.\n",
      "0:\tlearn: 0.0000000\ttotal: 220ms\tremaining: 3m 39s\n",
      "999:\tlearn: 0.5533449\ttotal: 3m 15s\tremaining: 0us\n",
      "[I 2023-09-29 23:17:33,168] Trial 2 finished with value: 0.5534692862472022 and parameters: {'learning_rate': 0.10880883068359615}. Best is trial 1 with value: 0.5823178313852275.\n",
      "0:\tlearn: 0.0000000\ttotal: 211ms\tremaining: 3m 31s\n",
      "999:\tlearn: 0.5644118\ttotal: 3m 14s\tremaining: 0us\n",
      "[I 2023-09-29 23:20:49,043] Trial 3 finished with value: 0.5644118378512808 and parameters: {'learning_rate': 0.11458669316295526}. Best is trial 1 with value: 0.5823178313852275.\n",
      "0:\tlearn: 0.0000000\ttotal: 214ms\tremaining: 3m 33s\n",
      "999:\tlearn: 0.5603084\ttotal: 3m 13s\tremaining: 0us\n",
      "[I 2023-09-29 23:24:04,587] Trial 4 finished with value: 0.5604327281770703 and parameters: {'learning_rate': 0.11254796189740922}. Best is trial 1 with value: 0.5823178313852275.\n",
      "0:\tlearn: 0.0000000\ttotal: 218ms\tremaining: 3m 37s\n",
      "999:\tlearn: 0.6186272\ttotal: 3m 10s\tremaining: 0us\n",
      "[I 2023-09-29 23:27:16,607] Trial 5 finished with value: 0.6186272071623974 and parameters: {'learning_rate': 0.1640426283065578}. Best is trial 5 with value: 0.6186272071623974.\n",
      "0:\tlearn: 0.0000000\ttotal: 212ms\tremaining: 3m 31s\n",
      "999:\tlearn: 0.5768466\ttotal: 3m 14s\tremaining: 0us\n",
      "[I 2023-09-29 23:30:32,489] Trial 6 finished with value: 0.5768465555831883 and parameters: {'learning_rate': 0.11963451189677596}. Best is trial 5 with value: 0.6186272071623974.\n",
      "0:\tlearn: 0.0000000\ttotal: 207ms\tremaining: 3m 26s\n",
      "999:\tlearn: 0.6238498\ttotal: 3m 10s\tremaining: 0us\n",
      "[I 2023-09-29 23:33:44,795] Trial 7 finished with value: 0.6238497886097986 and parameters: {'learning_rate': 0.15319645940968063}. Best is trial 7 with value: 0.6238497886097986.\n",
      "0:\tlearn: 0.0000000\ttotal: 214ms\tremaining: 3m 33s\n",
      "999:\tlearn: 0.7021885\ttotal: 3m 7s\tremaining: 0us\n",
      "[I 2023-09-29 23:36:53,766] Trial 8 finished with value: 0.7021885103208158 and parameters: {'learning_rate': 0.25270456338028674}. Best is trial 8 with value: 0.7021885103208158.\n",
      "0:\tlearn: 0.0000000\ttotal: 211ms\tremaining: 3m 30s\n",
      "999:\tlearn: 0.5972395\ttotal: 3m 12s\tremaining: 0us\n",
      "[I 2023-09-29 23:40:08,053] Trial 9 finished with value: 0.5973638398408356 and parameters: {'learning_rate': 0.1245090636676469}. Best is trial 8 with value: 0.7021885103208158.\n",
      "CPU times: user 2h 5min 44s, sys: 50.6 s, total: 2h 6min 34s\n",
      "Wall time: 32min 19s\n"
     ]
    }
   ],
   "source": [
    "%%time\n",
    "cb_study.optimize(lambda trial: cb_objective(trial, train_pool),\n",
    "                  n_trials=10,\n",
    "                  show_progress_bar=True);"
   ]
  },
  {
   "cell_type": "markdown",
   "id": "7947187f",
   "metadata": {},
   "source": [
    "top_n=400 [I 2023-09-24 03:51:18,579] ['RecallAt:top=5'] Trial 6 finished with value: 1.0 and parameters: {'learning_rate': 0.20635329594703775}. Best is trial 6 with value: 1.0.\n",
    "\n",
    "top_n=400 [I 2023-09-24 12:13:42,586] ['MAP'] Trial 7 finished with value: 0.8376 and parameters: {'learning_rate': 0.23673897995559087}. Best is trial 7 with value: 0.8376.\n",
    "\n",
    "top_n=200 [I 2023-09-24 19:26:41,401] ['MAP'] Trial 4 finished with value: 0.8139082204125878 and parameters: {'learning_rate': 0.18044027964226522}. Best is trial 4 with value: 0.8139082204125878.\n",
    "\n",
    "top_n=100 [I 2023-09-25 00:44:42,799] Trial 0 finished with value: 0.7971334687318913 and parameters: {'learning_rate': 0.20577118484210952}. Best is trial 0 with value: 0.7971334687318913."
   ]
  },
  {
   "cell_type": "code",
   "execution_count": 27,
   "id": "ea153141",
   "metadata": {},
   "outputs": [
    {
     "data": {
      "text/plain": [
       "{'learning_rate': 0.25270456338028674}"
      ]
     },
     "execution_count": 27,
     "metadata": {},
     "output_type": "execute_result"
    }
   ],
   "source": [
    "cb_study.best_params"
   ]
  },
  {
   "cell_type": "code",
   "execution_count": 42,
   "id": "3c489b34",
   "metadata": {},
   "outputs": [
    {
     "name": "stdout",
     "output_type": "stream",
     "text": [
      "Learning rate set to 0.196759\n",
      "0:\tlearn: 0.0000000\ttotal: 214ms\tremaining: 3m 33s\n",
      "100:\tlearn: 0.2203475\ttotal: 22.9s\tremaining: 3m 24s\n",
      "200:\tlearn: 0.3979503\ttotal: 42.3s\tremaining: 2m 48s\n",
      "300:\tlearn: 0.4773153\ttotal: 1m 1s\tremaining: 2m 22s\n",
      "400:\tlearn: 0.5351831\ttotal: 1m 19s\tremaining: 1m 59s\n",
      "500:\tlearn: 0.5605549\ttotal: 1m 38s\tremaining: 1m 37s\n",
      "600:\tlearn: 0.5810524\ttotal: 1m 56s\tremaining: 1m 17s\n",
      "700:\tlearn: 0.5996750\ttotal: 2m 14s\tremaining: 57.4s\n",
      "800:\tlearn: 0.6166729\ttotal: 2m 32s\tremaining: 37.9s\n",
      "900:\tlearn: 0.6365454\ttotal: 2m 50s\tremaining: 18.7s\n",
      "999:\tlearn: 0.6527934\ttotal: 3m 7s\tremaining: 0us\n",
      "CPU times: user 12min 18s, sys: 4.82 s, total: 12min 23s\n",
      "Wall time: 3min 9s\n"
     ]
    },
    {
     "data": {
      "text/plain": [
       "<catboost.core.CatBoostClassifier at 0x7f4c10a845d0>"
      ]
     },
     "execution_count": 42,
     "metadata": {},
     "output_type": "execute_result"
    }
   ],
   "source": [
    "%%time\n",
    "model = CatBoostClassifier(**cb_study.best_params, \n",
    "                           eval_metric='Recall',\n",
    "                           random_seed=42)\n",
    "model.fit(train_pool, verbose=100)"
   ]
  },
  {
   "cell_type": "code",
   "execution_count": 43,
   "id": "540a3233",
   "metadata": {},
   "outputs": [
    {
     "data": {
      "text/plain": [
       "{'learn': {'Recall': 0.6532933383327084, 'Logloss': 0.009881399772343528}}"
      ]
     },
     "execution_count": 43,
     "metadata": {},
     "output_type": "execute_result"
    }
   ],
   "source": [
    "model.best_score_"
   ]
  },
  {
   "cell_type": "code",
   "execution_count": 86,
   "id": "ca8f868d",
   "metadata": {},
   "outputs": [],
   "source": [
    "# model.save_model('./dumps/trained_cb_class_model_ranker_{}_{}_{}'\n",
    "#                 .format(j, \n",
    "#                         model.get_params()['eval_metric'], \n",
    "#                         model.best_score_['learn']['Recall']))"
   ]
  },
  {
   "cell_type": "code",
   "execution_count": null,
   "id": "99badabc",
   "metadata": {},
   "outputs": [],
   "source": [
    "# model = CatBoostClassifier()\n",
    "# model.load_model('./dumps/trained_cb_class_model_ranker_100_Recall_0.6480974881870182')"
   ]
  },
  {
   "cell_type": "markdown",
   "id": "2cffb6fb",
   "metadata": {},
   "source": [
    "#### Дообучение модели"
   ]
  },
  {
   "cell_type": "code",
   "execution_count": 45,
   "id": "53b0d1e3",
   "metadata": {
    "scrolled": false
   },
   "outputs": [
    {
     "name": "stdout",
     "output_type": "stream",
     "text": [
      "10000 20000\n",
      "0.00799\n",
      "Learning rate set to 0.196759\n",
      "0:\tlearn: 0.5232791\ttotal: 180ms\tremaining: 2m 59s\n",
      "999:\tlearn: 0.6689612\ttotal: 2m 59s\tremaining: 0us\n",
      "3.05 мин\n",
      "20000 30000\n",
      "0.008017\n",
      "Learning rate set to 0.196759\n",
      "0:\tlearn: 0.5714108\ttotal: 180ms\tremaining: 3m\n",
      "999:\tlearn: 0.6750655\ttotal: 2m 57s\tremaining: 0us\n",
      "3.03 мин\n",
      "30000 40000\n",
      "0.007974\n",
      "Learning rate set to 0.196759\n",
      "0:\tlearn: 0.5871583\ttotal: 153ms\tremaining: 2m 33s\n",
      "999:\tlearn: 0.6882368\ttotal: 2m 56s\tremaining: 0us\n",
      "3.01 мин\n",
      "40000 50000\n",
      "0.008022\n",
      "Learning rate set to 0.196759\n",
      "0:\tlearn: 0.5964847\ttotal: 191ms\tremaining: 3m 11s\n",
      "999:\tlearn: 0.6930940\ttotal: 2m 57s\tremaining: 0us\n",
      "3.04 мин\n",
      "50000 60000\n",
      "0.008055\n",
      "Learning rate set to 0.196759\n",
      "0:\tlearn: 0.6095593\ttotal: 203ms\tremaining: 3m 23s\n",
      "999:\tlearn: 0.6967101\ttotal: 2m 56s\tremaining: 0us\n",
      "3.03 мин\n",
      "60000 70000\n",
      "0.007975\n",
      "Learning rate set to 0.196759\n",
      "0:\tlearn: 0.6092790\ttotal: 181ms\tremaining: 3m\n",
      "999:\tlearn: 0.7000627\ttotal: 2m 58s\tremaining: 0us\n",
      "3.06 мин\n",
      "70000 80000\n",
      "0.007963\n",
      "Learning rate set to 0.196759\n",
      "0:\tlearn: 0.6014065\ttotal: 196ms\tremaining: 3m 15s\n",
      "999:\tlearn: 0.7006153\ttotal: 2m 56s\tremaining: 0us\n",
      "3.04 мин\n",
      "80000 90000\n",
      "0.007937\n",
      "Learning rate set to 0.196759\n",
      "0:\tlearn: 0.6024946\ttotal: 178ms\tremaining: 2m 57s\n",
      "999:\tlearn: 0.6928310\ttotal: 2m 56s\tremaining: 0us\n",
      "3.03 мин\n",
      "90000 100000\n",
      "0.008001\n",
      "Learning rate set to 0.196759\n",
      "0:\tlearn: 0.6981627\ttotal: 200ms\tremaining: 3m 19s\n",
      "999:\tlearn: 0.7927759\ttotal: 2m 55s\tremaining: 0us\n",
      "3.03 мин\n"
     ]
    }
   ],
   "source": [
    "for bins, t in enumerate(range(i, train_indices.shape[0], i)):\n",
    "    print(t, t + i)\n",
    "    \n",
    "    start_time = datetime.datetime.now()\n",
    "    \n",
    "    rank_train_sub_indices = train_indices[t:i + t, :j].ravel()\n",
    "\n",
    "    rank_train_sub_base = all_base.iloc[rank_train_sub_indices, :].reset_index()\n",
    "\n",
    "    #all_valid = pd.concat([valid_features, valid_target], axis=1)\n",
    "    rank_train = all_train.iloc[np.repeat(range(t, i + t), j), :].reset_index(drop=True)\n",
    "    \n",
    "    rank_train = pd.concat([rank_train, rank_train_sub_base], axis=1, ignore_index=True)\n",
    "\n",
    "    rank_train['target'] = np.where(\n",
    "        rank_train[72] == rank_train[73], \n",
    "        1,  \n",
    "        0)\n",
    "    print(rank_train['target'].mean()) \n",
    "    \n",
    "    rank_train = rank_train.drop([72, 73], axis=1)\n",
    "    \n",
    "    train_pool = Pool(data=rank_train.drop(['target'], axis=1), \n",
    "                      label=rank_train['target'])\n",
    "    \n",
    "    model.fit(train_pool, init_model=model, verbose=1000)\n",
    "    \n",
    "    end_time = datetime.datetime.now()\n",
    "    print(round((end_time - start_time).total_seconds() / 60, 2), 'мин') \n"
   ]
  },
  {
   "cell_type": "code",
   "execution_count": 46,
   "id": "87beb528",
   "metadata": {},
   "outputs": [
    {
     "data": {
      "text/plain": [
       "{'learn': {'Recall': 0.7930258717660292, 'Logloss': 0.006331737518687488}}"
      ]
     },
     "execution_count": 46,
     "metadata": {},
     "output_type": "execute_result"
    }
   ],
   "source": [
    "model.best_score_"
   ]
  },
  {
   "cell_type": "code",
   "execution_count": 90,
   "id": "9a9724c9",
   "metadata": {},
   "outputs": [],
   "source": [
    "# model.save_model('./dumps/all_trained_cb_class_model_ranker_{}_{}_{}'\n",
    "#                 .format(j, \n",
    "#                         model.get_params()['eval_metric'], \n",
    "#                         model.best_score_['learn']['Recall']))"
   ]
  },
  {
   "cell_type": "code",
   "execution_count": 37,
   "id": "47ce2209",
   "metadata": {},
   "outputs": [
    {
     "data": {
      "text/plain": [
       "<catboost.core.CatBoostClassifier at 0x7f43161569d0>"
      ]
     },
     "execution_count": 37,
     "metadata": {},
     "output_type": "execute_result"
    }
   ],
   "source": [
    "#model = CatBoostClassifier()\n",
    "#model.load_model('./dumps/all_trained_cb_class_model_ranker_100_Recall_0.7007874015748031')"
   ]
  },
  {
   "cell_type": "markdown",
   "id": "d7ad27f9",
   "metadata": {},
   "source": [
    "### Предсказание ранжирующей модели на валидационной выборке"
   ]
  },
  {
   "cell_type": "code",
   "execution_count": 59,
   "id": "06717859",
   "metadata": {},
   "outputs": [
    {
     "name": "stdout",
     "output_type": "stream",
     "text": [
      "10000 100\n"
     ]
    }
   ],
   "source": [
    "print(i, j)"
   ]
  },
  {
   "cell_type": "markdown",
   "id": "0f284fee",
   "metadata": {},
   "source": [
    "Проведем предсказание рандирующей модели для каждого блока по 10000 векторов из исходной валидационной выборки"
   ]
  },
  {
   "cell_type": "code",
   "execution_count": 47,
   "id": "bf01bbae",
   "metadata": {},
   "outputs": [
    {
     "name": "stdout",
     "output_type": "stream",
     "text": [
      "part:  0 10000\n",
      "accuracy@5 после ранжирования модели:  74.18\n",
      "part:  10000 20000\n",
      "accuracy@5 после ранжирования модели:  73.21\n",
      "part:  20000 30000\n",
      "accuracy@5 после ранжирования модели:  74.25\n",
      "part:  30000 40000\n",
      "accuracy@5 после ранжирования модели:  73.7\n",
      "part:  40000 50000\n",
      "accuracy@5 после ранжирования модели:  74.01\n",
      "part:  50000 60000\n",
      "accuracy@5 после ранжирования модели:  73.78\n",
      "part:  60000 70000\n",
      "accuracy@5 после ранжирования модели:  73.88\n",
      "part:  70000 80000\n",
      "accuracy@5 после ранжирования модели:  74.11\n",
      "part:  80000 90000\n",
      "accuracy@5 после ранжирования модели:  73.72\n",
      "part:  90000 100000\n",
      "accuracy@5 после ранжирования модели:  73.87\n"
     ]
    }
   ],
   "source": [
    "all_predicted = np.array([])\n",
    "for bins, t in enumerate(range(0, valid_indices.shape[0], i)):\n",
    "    print('part: ', t, t + i)\n",
    "    rank_valid_sub_indices = valid_indices[t:i+t, :j].ravel()\n",
    "\n",
    "    rank_valid_sub_base = all_base.iloc[rank_valid_sub_indices, :].reset_index()\n",
    "    rank_valid_sub_base.shape\n",
    "\n",
    "    all_valid = pd.concat([valid_features, valid_target], axis=1)\n",
    "    rank_valid = all_valid.iloc[np.repeat(range(t, i + t), j), :].reset_index(drop=True)\n",
    "    rank_valid.shape\n",
    "\n",
    "    rank_valid = pd.concat([rank_valid, rank_valid_sub_base], axis=1, ignore_index=True)\n",
    "\n",
    "    rank_valid = rank_valid.drop([72, 73], axis=1)\n",
    "\n",
    "    valid_pool = Pool(data=rank_valid)\n",
    "\n",
    "    predicted = model.predict(valid_pool, prediction_type='Probability')\n",
    "    \n",
    "    all_predicted = np.append(all_predicted, predicted[:, 1])\n",
    "    \n",
    "    predicted_array = predicted[:, 1].reshape(i, j)\n",
    "    \n",
    "    best_predicted_indices = (-predicted_array).argsort()[:, :5]\n",
    "    \n",
    "    best_predicted_neighbors = []\n",
    "    \n",
    "    for k, index in enumerate(best_predicted_indices):\n",
    "        best_predicted_neighbors = np.concatenate(\n",
    "            (best_predicted_neighbors, \n",
    "             valid_indices[t:i + t, :j][k, index]), \n",
    "            axis=0)\n",
    "        \n",
    "    best_predicted_neighbors = best_predicted_neighbors.reshape(i, 5)\n",
    "    \n",
    "    print('accuracy@5 после ранжирования модели: ', \n",
    "          accuracy_top_n(valid_target.iloc[t:i + t].reset_index(drop=True)['Expected'], \n",
    "                         best_predicted_neighbors))\n",
    "    "
   ]
  },
  {
   "cell_type": "markdown",
   "id": "fcf18c67",
   "metadata": {},
   "source": [
    "**Найдем топ 5 наиболее подходящих векторов с использованием ранжирующей модели**"
   ]
  },
  {
   "cell_type": "code",
   "execution_count": 48,
   "id": "5129c56b",
   "metadata": {},
   "outputs": [
    {
     "data": {
      "text/plain": [
       "(100000, 100)"
      ]
     },
     "execution_count": 48,
     "metadata": {},
     "output_type": "execute_result"
    }
   ],
   "source": [
    "predicted_array = all_predicted.reshape(valid_indices.shape[0], j)\n",
    "predicted_array.shape"
   ]
  },
  {
   "cell_type": "code",
   "execution_count": 49,
   "id": "01b53875",
   "metadata": {
    "scrolled": false
   },
   "outputs": [
    {
     "data": {
      "text/plain": [
       "array([[77, 21, 20, 19, 40],\n",
       "       [22, 30, 34, 40, 51],\n",
       "       [ 0,  3,  1,  6, 54],\n",
       "       ...,\n",
       "       [26,  3,  4, 39,  5],\n",
       "       [ 0,  4,  3, 82, 49],\n",
       "       [99, 43, 41, 66, 86]])"
      ]
     },
     "execution_count": 49,
     "metadata": {},
     "output_type": "execute_result"
    }
   ],
   "source": [
    "best_predicted_indices = (-predicted_array).argsort()[:, :5]\n",
    "best_predicted_indices"
   ]
  },
  {
   "cell_type": "code",
   "execution_count": 50,
   "id": "54232108",
   "metadata": {},
   "outputs": [],
   "source": [
    "best_predicted_neighbors = []\n",
    "for k, index in enumerate(best_predicted_indices):\n",
    "    best_predicted_neighbors = np.concatenate((best_predicted_neighbors, valid_indices[k, index]), axis=0)"
   ]
  },
  {
   "cell_type": "code",
   "execution_count": 51,
   "id": "4acbbcf8",
   "metadata": {},
   "outputs": [],
   "source": [
    "best_predicted_neighbors = best_predicted_neighbors.reshape(valid_indices.shape[0], 5)"
   ]
  },
  {
   "cell_type": "code",
   "execution_count": 52,
   "id": "210e779b",
   "metadata": {},
   "outputs": [
    {
     "name": "stdout",
     "output_type": "stream",
     "text": [
      "accuracy@5 после ранжирования модели:  73.871\n"
     ]
    }
   ],
   "source": [
    "print('accuracy@5 после ранжирования модели: ', accuracy_top_n(valid_target['Expected'], best_predicted_neighbors))"
   ]
  },
  {
   "cell_type": "code",
   "execution_count": 53,
   "id": "5c518369",
   "metadata": {
    "scrolled": false
   },
   "outputs": [],
   "source": [
    "df_best_predicted_neighbors = pd.DataFrame(best_predicted_neighbors, index=valid_features.index)"
   ]
  },
  {
   "cell_type": "code",
   "execution_count": 54,
   "id": "06aa30f2",
   "metadata": {},
   "outputs": [
    {
     "data": {
      "text/html": [
       "<div>\n",
       "<style scoped>\n",
       "    .dataframe tbody tr th:only-of-type {\n",
       "        vertical-align: middle;\n",
       "    }\n",
       "\n",
       "    .dataframe tbody tr th {\n",
       "        vertical-align: top;\n",
       "    }\n",
       "\n",
       "    .dataframe thead th {\n",
       "        text-align: right;\n",
       "    }\n",
       "</style>\n",
       "<table border=\"1\" class=\"dataframe\">\n",
       "  <thead>\n",
       "    <tr style=\"text-align: right;\">\n",
       "      <th></th>\n",
       "      <th>0</th>\n",
       "      <th>1</th>\n",
       "      <th>2</th>\n",
       "      <th>3</th>\n",
       "      <th>4</th>\n",
       "    </tr>\n",
       "    <tr>\n",
       "      <th>Id</th>\n",
       "      <th></th>\n",
       "      <th></th>\n",
       "      <th></th>\n",
       "      <th></th>\n",
       "      <th></th>\n",
       "    </tr>\n",
       "  </thead>\n",
       "  <tbody>\n",
       "    <tr>\n",
       "      <th>100000-query</th>\n",
       "      <td>1908173-base</td>\n",
       "      <td>2512787-base</td>\n",
       "      <td>2546410-base</td>\n",
       "      <td>2875559-base</td>\n",
       "      <td>270881-base</td>\n",
       "    </tr>\n",
       "    <tr>\n",
       "      <th>100001-query</th>\n",
       "      <td>2259158-base</td>\n",
       "      <td>1079425-base</td>\n",
       "      <td>801389-base</td>\n",
       "      <td>2197829-base</td>\n",
       "      <td>1068829-base</td>\n",
       "    </tr>\n",
       "    <tr>\n",
       "      <th>100002-query</th>\n",
       "      <td>431806-base</td>\n",
       "      <td>148400-base</td>\n",
       "      <td>451870-base</td>\n",
       "      <td>365989-base</td>\n",
       "      <td>1783635-base</td>\n",
       "    </tr>\n",
       "    <tr>\n",
       "      <th>100003-query</th>\n",
       "      <td>2171299-base</td>\n",
       "      <td>2140047-base</td>\n",
       "      <td>1579116-base</td>\n",
       "      <td>323952-base</td>\n",
       "      <td>1512255-base</td>\n",
       "    </tr>\n",
       "    <tr>\n",
       "      <th>100004-query</th>\n",
       "      <td>74247-base</td>\n",
       "      <td>1003744-base</td>\n",
       "      <td>1733365-base</td>\n",
       "      <td>608523-base</td>\n",
       "      <td>1446303-base</td>\n",
       "    </tr>\n",
       "    <tr>\n",
       "      <th>...</th>\n",
       "      <td>...</td>\n",
       "      <td>...</td>\n",
       "      <td>...</td>\n",
       "      <td>...</td>\n",
       "      <td>...</td>\n",
       "    </tr>\n",
       "    <tr>\n",
       "      <th>199995-query</th>\n",
       "      <td>1876024-base</td>\n",
       "      <td>184973-base</td>\n",
       "      <td>1403690-base</td>\n",
       "      <td>2726244-base</td>\n",
       "      <td>827859-base</td>\n",
       "    </tr>\n",
       "    <tr>\n",
       "      <th>199996-query</th>\n",
       "      <td>1895629-base</td>\n",
       "      <td>2063426-base</td>\n",
       "      <td>120969-base</td>\n",
       "      <td>841235-base</td>\n",
       "      <td>988237-base</td>\n",
       "    </tr>\n",
       "    <tr>\n",
       "      <th>199997-query</th>\n",
       "      <td>918008-base</td>\n",
       "      <td>581956-base</td>\n",
       "      <td>2249505-base</td>\n",
       "      <td>2341431-base</td>\n",
       "      <td>232504-base</td>\n",
       "    </tr>\n",
       "    <tr>\n",
       "      <th>199998-query</th>\n",
       "      <td>319526-base</td>\n",
       "      <td>593166-base</td>\n",
       "      <td>2096071-base</td>\n",
       "      <td>1700116-base</td>\n",
       "      <td>2812130-base</td>\n",
       "    </tr>\n",
       "    <tr>\n",
       "      <th>199999-query</th>\n",
       "      <td>2384240-base</td>\n",
       "      <td>2610811-base</td>\n",
       "      <td>489741-base</td>\n",
       "      <td>1363668-base</td>\n",
       "      <td>672392-base</td>\n",
       "    </tr>\n",
       "  </tbody>\n",
       "</table>\n",
       "<p>100000 rows × 5 columns</p>\n",
       "</div>"
      ],
      "text/plain": [
       "                         0             1             2             3  \\\n",
       "Id                                                                     \n",
       "100000-query  1908173-base  2512787-base  2546410-base  2875559-base   \n",
       "100001-query  2259158-base  1079425-base   801389-base  2197829-base   \n",
       "100002-query   431806-base   148400-base   451870-base   365989-base   \n",
       "100003-query  2171299-base  2140047-base  1579116-base   323952-base   \n",
       "100004-query    74247-base  1003744-base  1733365-base   608523-base   \n",
       "...                    ...           ...           ...           ...   \n",
       "199995-query  1876024-base   184973-base  1403690-base  2726244-base   \n",
       "199996-query  1895629-base  2063426-base   120969-base   841235-base   \n",
       "199997-query   918008-base   581956-base  2249505-base  2341431-base   \n",
       "199998-query   319526-base   593166-base  2096071-base  1700116-base   \n",
       "199999-query  2384240-base  2610811-base   489741-base  1363668-base   \n",
       "\n",
       "                         4  \n",
       "Id                          \n",
       "100000-query   270881-base  \n",
       "100001-query  1068829-base  \n",
       "100002-query  1783635-base  \n",
       "100003-query  1512255-base  \n",
       "100004-query  1446303-base  \n",
       "...                    ...  \n",
       "199995-query   827859-base  \n",
       "199996-query   988237-base  \n",
       "199997-query   232504-base  \n",
       "199998-query  2812130-base  \n",
       "199999-query   672392-base  \n",
       "\n",
       "[100000 rows x 5 columns]"
      ]
     },
     "execution_count": 54,
     "metadata": {},
     "output_type": "execute_result"
    }
   ],
   "source": [
    "df_best_predicted_neighbors = (df_best_predicted_neighbors\n",
    "                               .apply(lambda x: x.apply(lambda x: str(int(x)) + '-base')))\n",
    "df_best_predicted_neighbors"
   ]
  },
  {
   "cell_type": "markdown",
   "id": "48a7dde3",
   "metadata": {
    "scrolled": false
   },
   "source": [
    "## Итог поиска ближайших векторов методом кластеризации с применением ранжирующей модели машинного обучения\n",
    "\n",
    "В качестве ранжирующей модели машинного обучения выбрана модель CatBoostClassifier. \n",
    "\n",
    "Исследована возможность повышения точности поиска путем применения ранжирующей модели машинного обучения для топ 50, 100, 200, 400 ближайших векторов. ПРименение модели на данных выборка дает сравнимый результат точности, но увеличение числа ближайших векторов приводит к увеличению времени обучения и предсказания модели. \n",
    "\n",
    "Эмпирическим путем в качестве оптимального варианта для ранжирования была выбрана выборка из топ 100 векторов, отобранных методом кластеризации из библиотеки Faiss.    \n",
    "\n",
    "Для модели машинного обучения удаление признаков с расределением, отличным от нормального, приводит к существенному (около 10%) снижению качества ранжирования.  \n",
    "\n",
    "Проведен подбор гиперпараметров модели с использованием optuna. Проведено итерационное дообучение модели на всем объеме тренировочной выборки.  \n",
    "\n",
    "Дополнительное применение модели машинного обучения на выбоке из топ 100 ближайших векторов ориентировочно увеличивает точность поиска на 3%.  "
   ]
  },
  {
   "cell_type": "code",
   "execution_count": null,
   "id": "290ef7e5",
   "metadata": {},
   "outputs": [],
   "source": []
  }
 ],
 "metadata": {
  "kernelspec": {
   "display_name": "Python 3 (ipykernel)",
   "language": "python",
   "name": "python3"
  },
  "language_info": {
   "codemirror_mode": {
    "name": "ipython",
    "version": 3
   },
   "file_extension": ".py",
   "mimetype": "text/x-python",
   "name": "python",
   "nbconvert_exporter": "python",
   "pygments_lexer": "ipython3",
   "version": "3.11.4"
  }
 },
 "nbformat": 4,
 "nbformat_minor": 5
}
